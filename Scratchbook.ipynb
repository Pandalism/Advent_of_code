{
 "cells": [
  {
   "cell_type": "code",
   "execution_count": null,
   "metadata": {},
   "outputs": [],
   "source": [
    "i = 1\n",
    "j = 2"
   ]
  },
  {
   "cell_type": "code",
   "execution_count": null,
   "metadata": {},
   "outputs": [],
   "source": [
    "(i,j)"
   ]
  },
  {
   "cell_type": "code",
   "execution_count": null,
   "metadata": {},
   "outputs": [],
   "source": [
    "multiply((1,2))"
   ]
  },
  {
   "cell_type": "code",
   "execution_count": null,
   "metadata": {},
   "outputs": [],
   "source": [
    "import numpy"
   ]
  },
  {
   "cell_type": "code",
   "execution_count": null,
   "metadata": {},
   "outputs": [],
   "source": [
    "array = []\n",
    "data_obj = open(\"day1_input.txt\", \"r\")\n",
    "for x in data_obj:\n",
    "  array.append(int(x))"
   ]
  },
  {
   "cell_type": "code",
   "execution_count": null,
   "metadata": {},
   "outputs": [],
   "source": [
    "for i in array:\n",
    "    for j in array:\n",
    "        for k in array:\n",
    "            if i + j + k == 2020:\n",
    "                print(f'i: {i}, j: {j}, k: {k}')"
   ]
  },
  {
   "cell_type": "code",
   "execution_count": null,
   "metadata": {},
   "outputs": [],
   "source": [
    "print(382*1564*74)"
   ]
  },
  {
   "cell_type": "markdown",
   "metadata": {},
   "source": [
    "## Day 2"
   ]
  },
  {
   "cell_type": "code",
   "execution_count": null,
   "metadata": {},
   "outputs": [],
   "source": [
    "array = []\n",
    "data_obj = open(\"day2_input.txt\", \"r\")\n",
    "for x in data_obj:\n",
    "  array.append(x)"
   ]
  },
  {
   "cell_type": "code",
   "execution_count": null,
   "metadata": {},
   "outputs": [],
   "source": [
    "array"
   ]
  },
  {
   "cell_type": "code",
   "execution_count": null,
   "metadata": {},
   "outputs": [],
   "source": [
    "line = '4-8 c: cccdcqdcr\\n'\n",
    "req = line.split()[0].split('-')\n",
    "letter = line.split()[1][0]\n",
    "pswrd = line.split()[2]\n",
    "print(f'min & max requirements = {req}, letter {letter}, in password: {pswrd}')\n",
    "check_req(req, letter, pswrd)"
   ]
  },
  {
   "cell_type": "code",
   "execution_count": null,
   "metadata": {},
   "outputs": [],
   "source": [
    "array_1 = ['13-16 k: kkkkkgmkbvkkrskhd\\n',\n",
    " '5-6 p: qpppvzp\\n',\n",
    " '3-4 p: psppxhlfpvkh\\n',\n",
    " '3-10 w: wwwwwwwwwwdwww\\n',\n",
    " '4-5 r: rcgrrcr\\n',\n",
    " '3-4 c: clvccc\\n',\n",
    " '1-5 x: xfsfxmctb\\n',\n",
    " '9-14 k: kpkmkkckhkkkkvkk\\n',\n",
    " '5-6 s: gsfsss\\n',\n",
    " '4-8 c: cccdcqdcr\\n',\n",
    " '2-5 k: kmkpkkfgkkkkdkkk\\n',\n",
    " '9-11 f: pfnsfffwxsn\\n',\n",
    " '8-9 w: wjwnwcwxc\\n',\n",
    " '7-8 q: rrxhplqs\\n',\n",
    " '5-10 n: gpnkqnxnbjzgjnb\\n',\n",
    " '18-19 p: fvpkgfkfjgwllqwhrjd\\n',\n",
    " '12-13 v: kvvvbmdvvvvvvcvvvv\\n']"
   ]
  },
  {
   "cell_type": "code",
   "execution_count": null,
   "metadata": {},
   "outputs": [],
   "source": [
    "find_correct_pass(array)"
   ]
  },
  {
   "cell_type": "code",
   "execution_count": null,
   "metadata": {},
   "outputs": [],
   "source": [
    "def check_req(req, letter, pswrd):\n",
    "    count = 0\n",
    "    for i in pswrd:\n",
    "        if i == letter:\n",
    "            count = count + 1\n",
    "    return ((int(req[0]) <= count) & (count <= int(req[1])))"
   ]
  },
  {
   "cell_type": "code",
   "execution_count": null,
   "metadata": {},
   "outputs": [],
   "source": [
    "def find_correct_pass(in_array):\n",
    "    count = 0\n",
    "    for line in in_array:\n",
    "        req = line.split()[0].split('-')\n",
    "        letter = line.split()[1][0]\n",
    "        pswrd = line.split()[2]\n",
    "        # print(f'Line: {line.strip()}, req: {req}, letter = {letter}, pswrd: {pswrd}')\n",
    "        if check_req(req, letter, pswrd):\n",
    "            # print(f'line: {line}')\n",
    "            count = count + 1\n",
    "        \n",
    "    return(count)"
   ]
  },
  {
   "cell_type": "markdown",
   "metadata": {},
   "source": [
    "## Day 2 - part 2"
   ]
  },
  {
   "cell_type": "code",
   "execution_count": null,
   "metadata": {},
   "outputs": [],
   "source": [
    "def check_req(req, letter, pswrd):\n",
    "    return (pswrd[int(req[0])-1] == letter) ^ (pswrd[int(req[1])-1] == letter)"
   ]
  },
  {
   "cell_type": "code",
   "execution_count": null,
   "metadata": {},
   "outputs": [],
   "source": [
    "check_req(['2','9'],'c','ccccccccc')"
   ]
  },
  {
   "cell_type": "code",
   "execution_count": null,
   "metadata": {},
   "outputs": [],
   "source": [
    "def find_correct_pass(in_array):\n",
    "    count = 0\n",
    "    for line in in_array:\n",
    "        req = line.split()[0].split('-')\n",
    "        letter = line.split()[1][0]\n",
    "        pswrd = line.split()[2]\n",
    "        #print(f'Line: {line.strip()}, req: {req}, letter = {letter}, pswrd_at_req: {pswrd[int(req[0])-1]}, pswrd_at_req2: {pswrd[int(req[1])-1]}')\n",
    "        if check_req(req, letter, pswrd):\n",
    "            #print(f'line: {line}')\n",
    "            count = count + 1\n",
    "        \n",
    "    return(count)"
   ]
  },
  {
   "cell_type": "code",
   "execution_count": null,
   "metadata": {},
   "outputs": [],
   "source": [
    "find_correct_pass(array)"
   ]
  },
  {
   "cell_type": "code",
   "execution_count": null,
   "metadata": {},
   "outputs": [],
   "source": [
    "data_obj.close()\n"
   ]
  },
  {
   "cell_type": "markdown",
   "metadata": {},
   "source": [
    "## Day 3 - part 1"
   ]
  },
  {
   "cell_type": "code",
   "execution_count": null,
   "metadata": {},
   "outputs": [],
   "source": [
    "print('#############################################')\n",
    "tree_map = []\n",
    "text_input = open(\"day3/input.txt\", \"r\")\n",
    "for i in text_input:\n",
    "    tree_map.append(i.strip())\n",
    "text_input.close()\n",
    "print('Loaded tree_map')"
   ]
  },
  {
   "cell_type": "code",
   "execution_count": null,
   "metadata": {},
   "outputs": [],
   "source": [
    "tree_map"
   ]
  },
  {
   "cell_type": "code",
   "execution_count": null,
   "metadata": {},
   "outputs": [],
   "source": [
    "len(tree_map)"
   ]
  },
  {
   "cell_type": "code",
   "execution_count": null,
   "metadata": {},
   "outputs": [],
   "source": [
    "slope_right = 3\n",
    "slope_down = 1"
   ]
  },
  {
   "cell_type": "code",
   "execution_count": null,
   "metadata": {},
   "outputs": [],
   "source": [
    "trees = 0"
   ]
  },
  {
   "cell_type": "code",
   "execution_count": null,
   "metadata": {},
   "outputs": [],
   "source": [
    "tree_map[1][3]"
   ]
  },
  {
   "cell_type": "code",
   "execution_count": null,
   "metadata": {},
   "outputs": [],
   "source": [
    "len(tree_map[1])"
   ]
  },
  {
   "cell_type": "code",
   "execution_count": null,
   "metadata": {},
   "outputs": [],
   "source": [
    "5 % 3"
   ]
  },
  {
   "cell_type": "code",
   "execution_count": null,
   "metadata": {},
   "outputs": [],
   "source": [
    "def find_tree(tree_map, xpos, ypos):\n",
    "    temp_array = tree_map[ypos]\n",
    "    temp_x = xpos % len(temp_array)\n",
    "    return temp_array[temp_x] == '#'  # check if its a '#' tree"
   ]
  },
  {
   "cell_type": "code",
   "execution_count": null,
   "metadata": {},
   "outputs": [],
   "source": [
    "find_tree(tree_map, 1,1)"
   ]
  },
  {
   "cell_type": "code",
   "execution_count": null,
   "metadata": {},
   "outputs": [],
   "source": [
    "def tobogan_down(tree_map, xslope, yslope):\n",
    "    trees_encountered = 0\n",
    "    xpos = 0\n",
    "    ypos = 0\n",
    "    while ypos < (len(tree_map)-1):\n",
    "        xpos = xpos + xslope\n",
    "        ypos = ypos + yslope\n",
    "        if find_tree(tree_map, xpos, ypos):\n",
    "            trees_encountered = trees_encountered + 1\n",
    "    return trees_encountered"
   ]
  },
  {
   "cell_type": "code",
   "execution_count": null,
   "metadata": {},
   "outputs": [],
   "source": [
    "print(f'trees encountered: {tobogan_down(tree_map, 3, 1)}')"
   ]
  },
  {
   "cell_type": "code",
   "execution_count": null,
   "metadata": {},
   "outputs": [],
   "source": [
    "slopes = [(1,1), (3,1), (5,1), (7,1), (1,2)]\n",
    "trees_encountered = []\n",
    "for slope in slopes:\n",
    "    trees_encountered.append(tobogan_down(tree_map, slope[0], slope[1]))"
   ]
  },
  {
   "cell_type": "code",
   "execution_count": null,
   "metadata": {},
   "outputs": [],
   "source": [
    "trees_encountered"
   ]
  },
  {
   "cell_type": "markdown",
   "metadata": {},
   "source": [
    "## Day 4"
   ]
  },
  {
   "cell_type": "code",
   "execution_count": null,
   "metadata": {},
   "outputs": [],
   "source": [
    "import re"
   ]
  },
  {
   "cell_type": "code",
   "execution_count": null,
   "metadata": {},
   "outputs": [],
   "source": [
    "print('#############################################')\n",
    "passports = []\n",
    "text_input = open(\"day4/input.txt\", \"r\")\n",
    "for i in text_input:\n",
    "    passports.append(i.strip())\n",
    "text_input.close()\n",
    "print('Loaded passports')"
   ]
  },
  {
   "cell_type": "code",
   "execution_count": null,
   "metadata": {},
   "outputs": [],
   "source": [
    "passports[0:5]"
   ]
  },
  {
   "cell_type": "code",
   "execution_count": null,
   "metadata": {},
   "outputs": [],
   "source": [
    "req_keys = ['byr', 'iyr', 'eyr', 'hgt', 'hcl', 'ecl', 'pid']"
   ]
  },
  {
   "cell_type": "code",
   "execution_count": null,
   "metadata": {},
   "outputs": [],
   "source": [
    "def passport_clean(passports):\n",
    "    output = []\n",
    "    start_idx = 0\n",
    "    for idx, partial in enumerate(passports):\n",
    "        if partial == '':\n",
    "            output.append(' '.join(passports[start_idx:idx]))\n",
    "            start_idx = idx+1\n",
    "    output.append(' '.join(passports[start_idx:]))\n",
    "    return output"
   ]
  },
  {
   "cell_type": "code",
   "execution_count": null,
   "metadata": {},
   "outputs": [],
   "source": [
    "def convert_to_dict(line):\n",
    "    out_dict = dict()\n",
    "    for pair in line.split():\n",
    "        out_dict[pair.split(':')[0]] = pair.split(':')[1]\n",
    "    return out_dict"
   ]
  },
  {
   "cell_type": "code",
   "execution_count": null,
   "metadata": {},
   "outputs": [],
   "source": [
    "passports = passport_clean(passports)\n",
    "passport_dicts = []\n",
    "for passport in passports:\n",
    "    passport_dicts.append(convert_to_dict(passport))"
   ]
  },
  {
   "cell_type": "code",
   "execution_count": null,
   "metadata": {},
   "outputs": [],
   "source": [
    "def check_if_keys_present(in_dict, req_keys):\n",
    "    not_present = 0;\n",
    "    for key in req_keys:\n",
    "        not_present = not_present + (not key in in_dict)\n",
    "    return not not_present"
   ]
  },
  {
   "cell_type": "code",
   "execution_count": null,
   "metadata": {},
   "outputs": [],
   "source": [
    "check_if_keys_present(passport_dicts[0], req_keys)"
   ]
  },
  {
   "cell_type": "markdown",
   "metadata": {},
   "source": [
    "## Validation functions"
   ]
  },
  {
   "cell_type": "code",
   "execution_count": null,
   "metadata": {},
   "outputs": [],
   "source": [
    "def validate_byr(in_dict):\n",
    "    return (int(in_dict['byr']) >= 1920) & (int(in_dict['byr']) <= 2002)\n",
    "\n",
    "\n",
    "def validate_iyr(in_dict):\n",
    "    return (int(in_dict['iyr']) >= 2010) & (int(in_dict['iyr']) <= 2020)\n",
    "\n",
    "\n",
    "def validate_eyr(in_dict):\n",
    "    return (int(in_dict['eyr']) >= 2020) & (int(in_dict['eyr']) <= 2030)\n",
    "\n",
    "\n",
    "def validate_hgt(in_dict):\n",
    "    temp = in_dict['hgt']\n",
    "    if temp[-2:] == 'cm':\n",
    "        if (int(temp.strip('cm')) >= 150) & (int(temp.strip('cm')) <= 193):\n",
    "            return True\n",
    "    elif temp[-2:] == 'in':\n",
    "        if (int(temp.strip('in')) >= 59) & (int(temp.strip('in')) <= 76):\n",
    "            return True\n",
    "    else:\n",
    "        return False\n",
    "\n",
    "\n",
    "def validate_hcl(in_dict):\n",
    "    pattern = re.compile('#[0-9a-fA-F]{6}')\n",
    "    return bool(pattern.match(in_dict['hcl']))\n",
    "\n",
    "\n",
    "def validate_ecl(in_dict):\n",
    "    return in_dict['ecl'] in ['amb', 'blu', 'brn', 'gry', 'grn', 'hzl', 'oth']\n",
    "\n",
    "\n",
    "def validate_pid(in_dict):\n",
    "    pattern = re.compile('[0-9]{9}')\n",
    "    return bool(pattern.match(in_dict['pid']))\n"
   ]
  },
  {
   "cell_type": "code",
   "execution_count": null,
   "metadata": {},
   "outputs": [],
   "source": [
    "example = ['pid:087499704 hgt:74in ecl:grn iyr:2012 eyr:2030 byr:1980',\n",
    "'hcl:#623a2f',\n",
    "'',\n",
    "'eyr:2029 ecl:blu cid:129 byr:1989',\n",
    "'iyr:2014 pid:896056539 hcl:#a97842 hgt:165cm',\n",
    "'',\n",
    "'hcl:#888785',\n",
    "'hgt:164cm byr:2001 iyr:2015 cid:88',\n",
    "'pid:545766238 ecl:hzl',\n",
    "'eyr:2022',\n",
    "'',\n",
    "'iyr:2010 hgt:158cm hcl:#b6652a ecl:blu byr:1944 eyr:2021 pid:093154719']\n",
    "\n",
    "example = passport_clean(example)\n",
    "example_dicts = []\n",
    "for passport in example:\n",
    "    example_dicts.append(convert_to_dict(passport))"
   ]
  },
  {
   "cell_type": "code",
   "execution_count": null,
   "metadata": {},
   "outputs": [],
   "source": [
    "for passport in passport_dicts[:10]:\n",
    "    if check_if_keys_present(passport, req_keys):\n",
    "        print(passport)        \n",
    "        valid_byr = validate_byr(passport)\n",
    "        valid_iyr = validate_iyr(passport)\n",
    "        valid_eyr = validate_eyr(passport)\n",
    "        valid_hgt = validate_hgt(passport)\n",
    "        valid_hcl = validate_hcl(passport)\n",
    "        valid_ecl = validate_ecl(passport)\n",
    "        valid_pid = validate_pid(passport)\n",
    "\n",
    "        if not valid_byr:\n",
    "            print('failed by check')\n",
    "        if not valid_iyr:\n",
    "            print('failed iry check')\n",
    "        if not valid_eyr:\n",
    "            print('failed eyr check')\n",
    "        if not valid_hgt:\n",
    "            print('failed hgt check')\n",
    "        if not valid_hcl:\n",
    "            print('failed hcl check')\n",
    "        if not valid_ecl:\n",
    "            print('failed ecl check')\n",
    "        if not valid_pid:\n",
    "            print('failed pid check')\n",
    "    else:\n",
    "        print('not valid at all')"
   ]
  },
  {
   "cell_type": "code",
   "execution_count": null,
   "metadata": {},
   "outputs": [],
   "source": [
    "passport_dicts"
   ]
  },
  {
   "cell_type": "markdown",
   "metadata": {},
   "source": [
    "## Day 4"
   ]
  },
  {
   "cell_type": "code",
   "execution_count": null,
   "metadata": {},
   "outputs": [],
   "source": [
    "# FBFBBFFRLR, row = 44, seat = 5\n",
    "exampl_bin = '0101100'\n",
    "exampl_seat= '101'\n",
    "print(f'row={int(exampl_bin, base=2)}, seat={int(exampl_seat, base=2)}')\n",
    "print(f'seat_id = {int(exampl_bin+exampl_seat, base=2)}')"
   ]
  },
  {
   "cell_type": "code",
   "execution_count": null,
   "metadata": {},
   "outputs": [],
   "source": [
    "in_trans = 'FBRL'\n",
    "out_trans = '0110'\n",
    "trantab = str.maketrans(in_trans, out_trans)"
   ]
  },
  {
   "cell_type": "code",
   "execution_count": null,
   "metadata": {},
   "outputs": [],
   "source": [
    "trantab"
   ]
  },
  {
   "cell_type": "code",
   "execution_count": null,
   "metadata": {},
   "outputs": [],
   "source": [
    "example = 'FBFBBFFRLR'\n",
    "example.translate(trantab)"
   ]
  },
  {
   "cell_type": "code",
   "execution_count": null,
   "metadata": {},
   "outputs": [],
   "source": [
    "exampl_bin.translate(trantab)"
   ]
  },
  {
   "cell_type": "code",
   "execution_count": null,
   "metadata": {},
   "outputs": [],
   "source": [
    "int(exampl_bin, base=2)a"
   ]
  },
  {
   "cell_type": "code",
   "execution_count": null,
   "metadata": {},
   "outputs": [],
   "source": [
    "print('#############################################')\n",
    "seat_ids = []\n",
    "text_input = open(\"day5/input.txt\", \"r\")\n",
    "for line in text_input:\n",
    "    seat_ids.append(int(line.translate(trantab), base=2))\n",
    "text_input.close()\n",
    "print('Loaded passports')\n",
    "print(f'max seat id: {max(seat_ids)}')"
   ]
  },
  {
   "cell_type": "code",
   "execution_count": null,
   "metadata": {},
   "outputs": [],
   "source": [
    "import numpy as np"
   ]
  },
  {
   "cell_type": "code",
   "execution_count": null,
   "metadata": {},
   "outputs": [],
   "source": [
    "npseat_id = np.array(sorted(seat_ids))"
   ]
  },
  {
   "cell_type": "code",
   "execution_count": null,
   "metadata": {},
   "outputs": [],
   "source": [
    "np.argmax(npseat_id[1:] - npseat_id[:-1] - 1)"
   ]
  },
  {
   "cell_type": "code",
   "execution_count": null,
   "metadata": {},
   "outputs": [],
   "source": [
    "npseat_id[615:620]"
   ]
  },
  {
   "cell_type": "code",
   "execution_count": null,
   "metadata": {},
   "outputs": [],
   "source": [
    "npseat_id[618]"
   ]
  },
  {
   "cell_type": "markdown",
   "metadata": {},
   "source": [
    "## Day 6"
   ]
  },
  {
   "cell_type": "code",
   "execution_count": null,
   "metadata": {},
   "outputs": [],
   "source": [
    "print('#############################################')\n",
    "customs = []\n",
    "count = 0\n",
    "text_input = open(\"day6/input.txt\", \"r\")\n",
    "for line in text_input:\n",
    "    customs.append(line.strip())\n",
    "text_input.close()\n",
    "print('Loaded customs responses')\n",
    "print(f'count: {count}')"
   ]
  },
  {
   "cell_type": "code",
   "execution_count": null,
   "metadata": {},
   "outputs": [],
   "source": [
    "def group_customs(customs):\n",
    "    output = []\n",
    "    start_idx = 0\n",
    "    for idx, partial in enumerate(customs):\n",
    "        if partial == '':\n",
    "            output.append(' '.join(customs[start_idx:idx]))\n",
    "            start_idx = idx+1\n",
    "    output.append(' '.join(customs[start_idx:]))\n",
    "    return output"
   ]
  },
  {
   "cell_type": "code",
   "execution_count": null,
   "metadata": {},
   "outputs": [],
   "source": [
    "groups = group_customs(customs)"
   ]
  },
  {
   "cell_type": "code",
   "execution_count": null,
   "metadata": {},
   "outputs": [],
   "source": [
    "ex = 'abc cd ah'"
   ]
  },
  {
   "cell_type": "code",
   "execution_count": null,
   "metadata": {},
   "outputs": [],
   "source": [
    "len(set(ex.replace(' ','')))"
   ]
  },
  {
   "cell_type": "code",
   "execution_count": null,
   "metadata": {},
   "outputs": [],
   "source": [
    "def count_response_grouped(groups):\n",
    "    out_sum = 0\n",
    "    for group in groups:\n",
    "        out_sum = out_sum + len(set(group.replace(' ','')))\n",
    "    return out_sum"
   ]
  },
  {
   "cell_type": "code",
   "execution_count": null,
   "metadata": {},
   "outputs": [],
   "source": [
    "count_response_grouped(groups)"
   ]
  },
  {
   "cell_type": "code",
   "execution_count": null,
   "metadata": {},
   "outputs": [],
   "source": [
    "def count_response_grouped_part2(groups):\n",
    "    out_sum = 0\n",
    "    for group in groups:\n",
    "        tmp_indiv = group.split()\n",
    "        tmp_set = set(tmp_indiv[0])\n",
    "        for i in range(len(tmp_indiv)-1):\n",
    "            tmp_set.intersection_update(set(tmp_indiv[i+1]))\n",
    "        out_sum = out_sum + len(tmp_set)\n",
    "    return out_sum"
   ]
  },
  {
   "cell_type": "code",
   "execution_count": null,
   "metadata": {},
   "outputs": [],
   "source": [
    "tmp_set = set(tmp_indiv[0])\n",
    "for i in range(len(tmp_indiv)-1):\n",
    "    tmp_set = tmp_set.intersection(set(tmp_indiv[i+1]))\n",
    "    \n",
    "    "
   ]
  },
  {
   "cell_type": "code",
   "execution_count": null,
   "metadata": {},
   "outputs": [],
   "source": [
    "for i in range(0):\n",
    "    print(i)"
   ]
  },
  {
   "cell_type": "code",
   "execution_count": null,
   "metadata": {},
   "outputs": [],
   "source": [
    "count_response_grouped_part2([groups[28]])"
   ]
  },
  {
   "cell_type": "code",
   "execution_count": null,
   "metadata": {},
   "outputs": [],
   "source": [
    "example = ['abc',\n",
    "'',\n",
    "'a',\n",
    "'b',\n",
    "'c',\n",
    "'',\n",
    "'ab',\n",
    "'ac',\n",
    "'',\n",
    "'a',\n",
    "'a',\n",
    "'a',\n",
    "'a',\n",
    "'',\n",
    "'b']"
   ]
  },
  {
   "cell_type": "code",
   "execution_count": null,
   "metadata": {},
   "outputs": [],
   "source": [
    "example = group_customs(example)"
   ]
  },
  {
   "cell_type": "code",
   "execution_count": null,
   "metadata": {},
   "outputs": [],
   "source": [
    "count_response_grouped_part2(groups)"
   ]
  },
  {
   "cell_type": "markdown",
   "metadata": {},
   "source": [
    "## Day 7"
   ]
  },
  {
   "cell_type": "code",
   "execution_count": null,
   "metadata": {},
   "outputs": [],
   "source": [
    "print('#############################################')\n",
    "rules = []\n",
    "text_input = open(\"day7/input.txt\", \"r\")\n",
    "for line in text_input:\n",
    "    rules.append(line.strip())\n",
    "text_input.close()\n",
    "print('Loaded ruleset')"
   ]
  },
  {
   "cell_type": "code",
   "execution_count": null,
   "metadata": {},
   "outputs": [],
   "source": [
    "ex_rules = ['light red bags contain 1 bright white bag, 2 muted yellow bags.',\n",
    "'dark orange bags contain 3 bright white bags, 4 muted yellow bags.',\n",
    "'bright white bags contain 1 shiny gold bag.',\n",
    "'muted yellow bags contain 2 shiny gold bags, 9 faded blue bags.',\n",
    "'shiny gold bags contain 1 dark olive bag, 2 vibrant plum bags.',\n",
    "'dark olive bags contain 3 faded blue bags, 4 dotted black bags.',\n",
    "'vibrant plum bags contain 5 faded blue bags, 6 dotted black bags.',\n",
    "'faded blue bags contain no other bags.',\n",
    "'dotted black bags contain no other bags.']"
   ]
  },
  {
   "cell_type": "code",
   "execution_count": null,
   "metadata": {},
   "outputs": [],
   "source": [
    "ex_rules"
   ]
  },
  {
   "cell_type": "code",
   "execution_count": null,
   "metadata": {},
   "outputs": [],
   "source": [
    "rules = defaultdict(lambda: [])\n",
    "for line in ex_rules:\n",
    "    parent = line.split(' bags contain ')[0]\n",
    "    children = re.findall(r'(\\d+) ([\\w ]+) bag', line)\n",
    "    \n",
    "    rules[parent]= children"
   ]
  },
  {
   "cell_type": "code",
   "execution_count": null,
   "metadata": {},
   "outputs": [],
   "source": []
  },
  {
   "cell_type": "code",
   "execution_count": null,
   "metadata": {},
   "outputs": [],
   "source": [
    "re.findall(r'(\\d+) ([\\w ]+) bag', ex_rules[0])"
   ]
  },
  {
   "cell_type": "code",
   "execution_count": null,
   "metadata": {},
   "outputs": [],
   "source": [
    "children_ex"
   ]
  },
  {
   "cell_type": "code",
   "execution_count": null,
   "metadata": {},
   "outputs": [],
   "source": [
    "re.findall(r'(\\d+) ([\\w ]+) bag', ex_rules[0])"
   ]
  },
  {
   "cell_type": "code",
   "execution_count": null,
   "metadata": {},
   "outputs": [],
   "source": [
    "import re\n",
    "from collections import defaultdict\n",
    "\n",
    "parents = defaultdict(lambda: [])\n",
    "\n",
    "for line in open('day7/input.txt'):\n",
    "    parent = line.split(' bags contain ')[0]\n",
    "    children = re.findall(r'\\d ([\\w ]+) bag', line)\n",
    "\n",
    "    for child in children:\n",
    "        parents[child].append(parent)\n",
    "\n",
    "\n",
    "def find_parents(bag, parents):\n",
    "    temp_set = set(parents[bag])\n",
    "    for parent in parents[bag]:\n",
    "        temp_set = temp_set.union(find_parents(parent, parents))\n",
    "    return temp_set\n",
    "    # return temp_set.union( *(find_parents(parent) for parent in parents[bag]))\n",
    "\n",
    "\n",
    "print(len(find_parents('shiny gold', parents)))"
   ]
  },
  {
   "cell_type": "code",
   "execution_count": null,
   "metadata": {},
   "outputs": [],
   "source": [
    "parents"
   ]
  },
  {
   "cell_type": "code",
   "execution_count": null,
   "metadata": {},
   "outputs": [],
   "source": [
    "import re\n",
    "from collections import defaultdict\n",
    "\n",
    "parents = defaultdict(lambda: [])\n",
    "\n",
    "for line in open('day7/input.txt'):\n",
    "    parent = line.split(' bags contain ')[0]\n",
    "    children = re.findall(r'\\d ([\\w ]+) bag', line)\n",
    "\n",
    "    for child in children:\n",
    "        parents[child].append(parent)\n",
    "\n",
    "\n",
    "def find_parents(bag, parents):\n",
    "    temp_set = set(parents[bag])\n",
    "    for parent in parents[bag]:\n",
    "        temp_set = temp_set.union(find_parents(parent, parents))\n",
    "    return temp_set\n",
    "    # return temp_set.union( *(find_parents(parent) for parent in parents[bag]))\n",
    "\n",
    "\n",
    "print(len(find_parents('shiny gold', parents)))"
   ]
  },
  {
   "cell_type": "code",
   "execution_count": null,
   "metadata": {},
   "outputs": [],
   "source": [
    "ex_rules_2 = ['shiny gold bags contain 2 dark red bags.',\n",
    "'dark red bags contain 2 dark orange bags.',\n",
    "'dark orange bags contain 2 dark yellow bags.',\n",
    "'dark yellow bags contain 2 dark green bags.',\n",
    "'dark green bags contain 2 dark blue bags.',\n",
    "'dark blue bags contain 2 dark violet bags.',\n",
    "'dark violet bags contain no other bags.']"
   ]
  },
  {
   "cell_type": "code",
   "execution_count": null,
   "metadata": {},
   "outputs": [],
   "source": [
    "rules_1 = defaultdict(lambda: [])\n",
    "for line in ex_rules:\n",
    "    parent = line.split(' bags contain ')[0]\n",
    "    children = re.findall(r'(\\d+) ([\\w ]+) bag', line)\n",
    "    \n",
    "    rules_1[parent]= children"
   ]
  },
  {
   "cell_type": "code",
   "execution_count": null,
   "metadata": {},
   "outputs": [],
   "source": [
    "rules_1"
   ]
  },
  {
   "cell_type": "code",
   "execution_count": null,
   "metadata": {},
   "outputs": [],
   "source": [
    "def count_bags_in(bag, rule_set):\n",
    "    temp = 0\n",
    "    if rule_set[bag] == []:\n",
    "        return 0\n",
    "    for child in rule_set[bag]:\n",
    "        temp = temp + int(child[0]) + (int(child[0]) * count_bags_in(child[1], rule_set))\n",
    "        \n",
    "    return temp"
   ]
  },
  {
   "cell_type": "code",
   "execution_count": null,
   "metadata": {},
   "outputs": [],
   "source": [
    "count_bags_in('shiny gold', rules_2)"
   ]
  },
  {
   "cell_type": "markdown",
   "metadata": {},
   "source": [
    "## Day 8"
   ]
  },
  {
   "cell_type": "code",
   "execution_count": null,
   "metadata": {},
   "outputs": [],
   "source": [
    "print('#############################################')\n",
    "instructions = []\n",
    "count = 0\n",
    "text_input = open(\"day8/test.txt\", \"r\")\n",
    "for line in text_input:\n",
    "    instructions.append(line.strip().split())\n",
    "text_input.close()\n",
    "print('Loaded instructions responses')"
   ]
  },
  {
   "cell_type": "code",
   "execution_count": null,
   "metadata": {},
   "outputs": [],
   "source": [
    "instructions"
   ]
  },
  {
   "cell_type": "code",
   "execution_count": null,
   "metadata": {},
   "outputs": [],
   "source": [
    "accumulator = 0\n",
    "pointer = 0\n",
    "history = []"
   ]
  },
  {
   "cell_type": "code",
   "execution_count": null,
   "metadata": {},
   "outputs": [],
   "source": [
    "def read_instruction(inst_list, prog_pointer, curr_accummulator):\n",
    "    if inst_list[prog_pointer][0] == 'acc':\n",
    "        curr_accummulator += int(inst_list[prog_pointer][1])\n",
    "        prog_pointer += 1\n",
    "    elif inst_list[prog_pointer][0] == 'jmp':\n",
    "        prog_pointer += int(inst_list[prog_pointer][1])\n",
    "    else:\n",
    "        prog_pointer += 1\n",
    "        \n",
    "    return [prog_pointer, curr_accummulator]"
   ]
  },
  {
   "cell_type": "code",
   "execution_count": null,
   "metadata": {},
   "outputs": [],
   "source": [
    "accumulator = 0\n",
    "pointer = 0\n",
    "history = []"
   ]
  },
  {
   "cell_type": "code",
   "execution_count": null,
   "metadata": {},
   "outputs": [],
   "source": [
    "[pointer, accumulator] = read_instruction(instructions, pointer, accumulator)\n",
    "print(f'pointer: {pointer}, accumulator: {accumulator}')"
   ]
  },
  {
   "cell_type": "code",
   "execution_count": null,
   "metadata": {},
   "outputs": [],
   "source": []
  },
  {
   "cell_type": "code",
   "execution_count": null,
   "metadata": {},
   "outputs": [],
   "source": [
    "def run_program(instructions):\n",
    "    accumulator = 0\n",
    "    pointer = 0\n",
    "    history = []\n",
    "    while True:\n",
    "        if pointer in history:\n",
    "            break\n",
    "        else:\n",
    "            print(f'pointer: {pointer}, accumulator: {accumulator}, instructions: {instructions[pointer]}')\n",
    "            history.append(pointer)\n",
    "            [pointer, accumulator] = read_instruction(instructions, pointer, accumulator)\n",
    "            \n",
    "    print(f'hit infinite loop on instruction {pointer}:{instructions[pointer]}')\n",
    "    return accumulator"
   ]
  },
  {
   "cell_type": "code",
   "execution_count": null,
   "metadata": {},
   "outputs": [],
   "source": [
    "run_program(instructions)"
   ]
  },
  {
   "cell_type": "code",
   "execution_count": null,
   "metadata": {},
   "outputs": [],
   "source": []
  },
  {
   "cell_type": "code",
   "execution_count": null,
   "metadata": {},
   "outputs": [],
   "source": [
    "a = None"
   ]
  },
  {
   "cell_type": "code",
   "execution_count": null,
   "metadata": {},
   "outputs": [],
   "source": [
    "bool(a)"
   ]
  },
  {
   "cell_type": "markdown",
   "metadata": {},
   "source": [
    "### Rewrite part 1 to be recursive:\n"
   ]
  },
  {
   "cell_type": "code",
   "execution_count": 1,
   "metadata": {},
   "outputs": [
    {
     "name": "stdout",
     "output_type": "stream",
     "text": [
      "#############################################\n",
      "Loaded instructions responses\n"
     ]
    }
   ],
   "source": [
    "print('#############################################')\n",
    "instructions = []\n",
    "count = 0\n",
    "text_input = open(\"day8/input.txt\", \"r\")\n",
    "for line in text_input:\n",
    "    instructions.append(line.strip().split())\n",
    "text_input.close()\n",
    "print('Loaded instructions responses')"
   ]
  },
  {
   "cell_type": "code",
   "execution_count": 2,
   "metadata": {},
   "outputs": [],
   "source": [
    "def read_instruction_debug(inst_list, prog_pointer, curr_accummulator):\n",
    "    alt_pointer = prog_pointer\n",
    "    if inst_list[prog_pointer][0] == 'acc':\n",
    "        curr_accummulator += int(inst_list[prog_pointer][1])\n",
    "        prog_pointer += 1\n",
    "        alt_pointer = None\n",
    "    elif inst_list[prog_pointer][0] == 'jmp':\n",
    "        alt_pointer += 1\n",
    "        prog_pointer += int(inst_list[prog_pointer][1])\n",
    "    else:\n",
    "        alt_pointer += int(inst_list[prog_pointer][1])\n",
    "        prog_pointer += 1\n",
    "\n",
    "    return [prog_pointer, curr_accummulator, alt_pointer]"
   ]
  },
  {
   "cell_type": "code",
   "execution_count": 3,
   "metadata": {},
   "outputs": [],
   "source": [
    "def run_program(instructions, pointer, history, accumulator):\n",
    "    [pointer, accumulator, alternative] = read_instruction_debug(instructions, pointer, accumulator)\n",
    "    if alternative:\n",
    "        print(f'alternative found {history[-1]}')\n",
    "    if pointer in history:\n",
    "        print(f'hit infinite loop on instruction {pointer}:{instructions[pointer]}')\n",
    "        return accumulator\n",
    "    else:\n",
    "        history.append(pointer)\n",
    "        return run_program(instructions, pointer, history, accumulator)"
   ]
  },
  {
   "cell_type": "code",
   "execution_count": 4,
   "metadata": {},
   "outputs": [],
   "source": [
    "accumulator = 0\n",
    "pointer = 0\n",
    "history_temp = []"
   ]
  },
  {
   "cell_type": "code",
   "execution_count": 5,
   "metadata": {},
   "outputs": [
    {
     "name": "stdout",
     "output_type": "stream",
     "text": [
      "alternative found 1\n",
      "alternative found 4\n",
      "alternative found 481\n",
      "alternative found 274\n",
      "alternative found 412\n",
      "alternative found 413\n",
      "alternative found 144\n",
      "alternative found 417\n",
      "alternative found 590\n",
      "alternative found 591\n",
      "alternative found 178\n",
      "alternative found 33\n",
      "alternative found 164\n",
      "alternative found 529\n",
      "alternative found 191\n",
      "alternative found 193\n",
      "alternative found 462\n",
      "alternative found 132\n",
      "alternative found 499\n",
      "alternative found 381\n",
      "alternative found 345\n",
      "alternative found 106\n",
      "alternative found 491\n",
      "alternative found 493\n",
      "alternative found 455\n",
      "alternative found 93\n",
      "alternative found 264\n",
      "alternative found 181\n",
      "alternative found 183\n",
      "alternative found 516\n",
      "alternative found 517\n",
      "alternative found 518\n",
      "alternative found 154\n",
      "alternative found 394\n",
      "alternative found 522\n",
      "alternative found 290\n",
      "alternative found 241\n",
      "alternative found 48\n",
      "alternative found 49\n",
      "alternative found 270\n",
      "alternative found 441\n",
      "alternative found 563\n",
      "alternative found 469\n",
      "alternative found 566\n",
      "alternative found 541\n",
      "alternative found 312\n",
      "alternative found 316\n",
      "alternative found 548\n",
      "alternative found 549\n",
      "alternative found 552\n",
      "alternative found 251\n",
      "alternative found 137\n",
      "alternative found 258\n",
      "alternative found 259\n",
      "alternative found 400\n",
      "alternative found 27\n",
      "alternative found 161\n",
      "alternative found 510\n",
      "alternative found 427\n",
      "alternative found 40\n",
      "alternative found 42\n",
      "alternative found 167\n",
      "alternative found 169\n",
      "alternative found 578\n",
      "alternative found 579\n",
      "alternative found 196\n",
      "alternative found 198\n",
      "alternative found 158\n",
      "alternative found 228\n",
      "alternative found 403\n",
      "alternative found 405\n",
      "alternative found 173\n",
      "alternative found 280\n",
      "alternative found 281\n",
      "alternative found 282\n",
      "alternative found 283\n",
      "alternative found 487\n",
      "alternative found 488\n",
      "alternative found 58\n",
      "alternative found 59\n",
      "alternative found 62\n",
      "alternative found 201\n",
      "alternative found 113\n",
      "alternative found 212\n",
      "alternative found 213\n",
      "alternative found 357\n",
      "alternative found 386\n",
      "alternative found 150\n",
      "alternative found 235\n",
      "alternative found 236\n",
      "alternative found 237\n",
      "alternative found 97\n",
      "alternative found 368\n",
      "hit infinite loop on instruction 409:['acc', '+23']\n"
     ]
    },
    {
     "data": {
      "text/plain": [
       "1744"
      ]
     },
     "execution_count": 5,
     "metadata": {},
     "output_type": "execute_result"
    }
   ],
   "source": [
    "run_program(instructions, pointer, history_temp, accumulator)"
   ]
  },
  {
   "cell_type": "markdown",
   "metadata": {},
   "source": [
    "### Attempt part 2 again "
   ]
  },
  {
   "cell_type": "code",
   "execution_count": 20,
   "metadata": {},
   "outputs": [],
   "source": [
    "def run_program_exhaustive(instructions, pointer, history, accumulator, branch=None):\n",
    "    # note current pointer\n",
    "    history.append(pointer)\n",
    "    # interpret next instruction\n",
    "    [pointer, accumulator, alternative] = read_instruction_debug(instructions, pointer, accumulator)\n",
    "\n",
    "    # check if win scenario:\n",
    "    if pointer >= len(instructions):\n",
    "        print(f'found successful branch.')\n",
    "        print(f'current pointer: {pointer}, current accumulator: {accumulator}, current branch point: {branch}.')\n",
    "        return [pointer, history[-4:], accumulator]\n",
    "\n",
    "    # explore alternatives if possible:\n",
    "    if (alternative != None) & (branch == None):\n",
    "        # check if branch point is and immediate win scenario\n",
    "        if alternative >= len(instructions):\n",
    "            print(f'found successful branch.')\n",
    "            print(\n",
    "                f'current pointer: {alternative}, current accumulator: {accumulator}, last instruction is branch point: {history[-1]}')\n",
    "            return [pointer, history, accumulator]\n",
    "        # else check if branch point can be continued:\n",
    "        else:\n",
    "            if not alternative in history:\n",
    "                print(f'found valid alternative branch at {history[-1]}, exploring now...')\n",
    "                temp_history = history.copy()\n",
    "                temp = run_program_exhaustive(instructions, alternative, temp_history, accumulator, branch=temp_history[-1])\n",
    "                if temp:\n",
    "                    return temp\n",
    "\n",
    "    # if neither win nor branch possible, check for lose scenario\n",
    "    if pointer in history:\n",
    "        print(f'hit infinite loop on instruction {history[-1]}:{instructions[history[-1]]}, branched at: {branch}')\n",
    "        return None\n",
    "\n",
    "    # if neither win, nor branch, nor lose, continue as down chain\n",
    "    return run_program_exhaustive(instructions, pointer, history, accumulator, branch=branch)"
   ]
  },
  {
   "cell_type": "code",
   "execution_count": 21,
   "metadata": {},
   "outputs": [],
   "source": [
    "accumulator = 0\n",
    "pointer = 0\n",
    "history_start = []"
   ]
  },
  {
   "cell_type": "code",
   "execution_count": 22,
   "metadata": {},
   "outputs": [
    {
     "name": "stdout",
     "output_type": "stream",
     "text": [
      "found valid alternative branch at 1, exploring now...\n",
      "hit infinite loop on instruction 368:['jmp', '+41'], branched at: 1\n",
      "found valid alternative branch at 4, exploring now...\n",
      "hit infinite loop on instruction 417:['jmp', '+173'], branched at: 4\n",
      "found valid alternative branch at 481, exploring now...\n",
      "hit infinite loop on instruction 488:['jmp', '-430'], branched at: 481\n",
      "found valid alternative branch at 274, exploring now...\n",
      "hit infinite loop on instruction 368:['jmp', '+41'], branched at: 274\n",
      "found valid alternative branch at 413, exploring now...\n",
      "hit infinite loop on instruction 414:['jmp', '-141'], branched at: 413\n",
      "found valid alternative branch at 144, exploring now...\n",
      "hit infinite loop on instruction 368:['jmp', '+41'], branched at: 144\n",
      "found valid alternative branch at 417, exploring now...\n",
      "hit infinite loop on instruction 584:['jmp', '-443'], branched at: 417\n",
      "found valid alternative branch at 590, exploring now...\n",
      "hit infinite loop on instruction 368:['jmp', '+41'], branched at: 590\n",
      "found valid alternative branch at 591, exploring now...\n",
      "hit infinite loop on instruction 368:['jmp', '+41'], branched at: 591\n",
      "found valid alternative branch at 178, exploring now...\n",
      "hit infinite loop on instruction 368:['jmp', '+41'], branched at: 178\n",
      "found valid alternative branch at 33, exploring now...\n",
      "hit infinite loop on instruction 368:['jmp', '+41'], branched at: 33\n",
      "found valid alternative branch at 164, exploring now...\n",
      "hit infinite loop on instruction 165:['jmp', '-133'], branched at: 164\n",
      "found valid alternative branch at 529, exploring now...\n",
      "hit infinite loop on instruction 368:['jmp', '+41'], branched at: 529\n",
      "found valid alternative branch at 191, exploring now...\n",
      "hit infinite loop on instruction 368:['jmp', '+41'], branched at: 191\n",
      "found valid alternative branch at 193, exploring now...\n",
      "hit infinite loop on instruction 368:['jmp', '+41'], branched at: 193\n",
      "found valid alternative branch at 462, exploring now...\n",
      "hit infinite loop on instruction 368:['jmp', '+41'], branched at: 462\n",
      "found valid alternative branch at 132, exploring now...\n",
      "hit infinite loop on instruction 368:['jmp', '+41'], branched at: 132\n",
      "found valid alternative branch at 499, exploring now...\n",
      "hit infinite loop on instruction 502:['jmp', '-23'], branched at: 499\n",
      "found valid alternative branch at 381, exploring now...\n",
      "hit infinite loop on instruction 368:['jmp', '+41'], branched at: 381\n",
      "found valid alternative branch at 345, exploring now...\n",
      "hit infinite loop on instruction 368:['jmp', '+41'], branched at: 345\n",
      "found valid alternative branch at 106, exploring now...\n",
      "hit infinite loop on instruction 109:['jmp', '+370'], branched at: 106\n",
      "found valid alternative branch at 491, exploring now...\n",
      "hit infinite loop on instruction 368:['jmp', '+41'], branched at: 491\n",
      "found valid alternative branch at 493, exploring now...\n",
      "hit infinite loop on instruction 368:['jmp', '+41'], branched at: 493\n",
      "found valid alternative branch at 455, exploring now...\n",
      "hit infinite loop on instruction 368:['jmp', '+41'], branched at: 455\n",
      "found valid alternative branch at 93, exploring now...\n",
      "hit infinite loop on instruction 94:['jmp', '+286'], branched at: 93\n",
      "found valid alternative branch at 264, exploring now...\n",
      "hit infinite loop on instruction 368:['jmp', '+41'], branched at: 264\n",
      "found valid alternative branch at 181, exploring now...\n",
      "hit infinite loop on instruction 368:['jmp', '+41'], branched at: 181\n",
      "found valid alternative branch at 183, exploring now...\n",
      "hit infinite loop on instruction 602:['jmp', '-123'], branched at: 183\n",
      "found valid alternative branch at 516, exploring now...\n",
      "hit infinite loop on instruction 368:['jmp', '+41'], branched at: 516\n",
      "found valid alternative branch at 517, exploring now...\n",
      "hit infinite loop on instruction 368:['jmp', '+41'], branched at: 517\n",
      "found valid alternative branch at 518, exploring now...\n",
      "hit infinite loop on instruction 208:['jmp', '+306'], branched at: 518\n",
      "found valid alternative branch at 154, exploring now...\n",
      "hit infinite loop on instruction 595:['jmp', '-186'], branched at: 154\n",
      "found valid alternative branch at 394, exploring now...\n",
      "hit infinite loop on instruction 368:['jmp', '+41'], branched at: 394\n",
      "found valid alternative branch at 522, exploring now...\n",
      "hit infinite loop on instruction 368:['jmp', '+41'], branched at: 522\n",
      "found valid alternative branch at 290, exploring now...\n",
      "hit infinite loop on instruction 208:['jmp', '+306'], branched at: 290\n",
      "found valid alternative branch at 241, exploring now...\n",
      "hit infinite loop on instruction 69:['jmp', '+382'], branched at: 241\n",
      "found valid alternative branch at 48, exploring now...\n",
      "hit infinite loop on instruction 368:['jmp', '+41'], branched at: 48\n",
      "found valid alternative branch at 49, exploring now...\n",
      "hit infinite loop on instruction 50:['jmp', '+211'], branched at: 49\n",
      "found valid alternative branch at 270, exploring now...\n",
      "hit infinite loop on instruction 69:['jmp', '+382'], branched at: 270\n",
      "found valid alternative branch at 441, exploring now...\n",
      "found successful branch.\n",
      "current pointer: 612, current accumulator: 1174, current branch point: 441.\n"
     ]
    },
    {
     "data": {
      "text/plain": [
       "[612, [608, 609, 610, 611], 1174]"
      ]
     },
     "execution_count": 22,
     "metadata": {},
     "output_type": "execute_result"
    }
   ],
   "source": [
    "run_program_exhaustive(instructions, pointer, history_start, accumulator)"
   ]
  },
  {
   "cell_type": "code",
   "execution_count": 15,
   "metadata": {},
   "outputs": [
    {
     "data": {
      "text/plain": [
       "612"
      ]
     },
     "execution_count": 15,
     "metadata": {},
     "output_type": "execute_result"
    }
   ],
   "source": [
    "len(instructions)"
   ]
  },
  {
   "cell_type": "code",
   "execution_count": 16,
   "metadata": {},
   "outputs": [
    {
     "ename": "IndexError",
     "evalue": "list index out of range",
     "output_type": "error",
     "traceback": [
      "\u001b[1;31m---------------------------------------------------------------------------\u001b[0m",
      "\u001b[1;31mIndexError\u001b[0m                                Traceback (most recent call last)",
      "\u001b[1;32m<ipython-input-16-55b0745732ea>\u001b[0m in \u001b[0;36m<module>\u001b[1;34m\u001b[0m\n\u001b[1;32m----> 1\u001b[1;33m \u001b[0minstructions\u001b[0m\u001b[1;33m[\u001b[0m\u001b[1;36m612\u001b[0m\u001b[1;33m]\u001b[0m\u001b[1;33m\u001b[0m\u001b[1;33m\u001b[0m\u001b[0m\n\u001b[0m",
      "\u001b[1;31mIndexError\u001b[0m: list index out of range"
     ]
    }
   ],
   "source": [
    "instructions[612]"
   ]
  },
  {
   "cell_type": "code",
   "execution_count": null,
   "metadata": {},
   "outputs": [],
   "source": []
  }
 ],
 "metadata": {
  "kernelspec": {
   "display_name": "Python 3",
   "language": "python",
   "name": "python3"
  },
  "language_info": {
   "codemirror_mode": {
    "name": "ipython",
    "version": 3
   },
   "file_extension": ".py",
   "mimetype": "text/x-python",
   "name": "python",
   "nbconvert_exporter": "python",
   "pygments_lexer": "ipython3",
   "version": "3.8.5"
  }
 },
 "nbformat": 4,
 "nbformat_minor": 4
}
