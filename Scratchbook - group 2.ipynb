{
 "cells": [
  {
   "cell_type": "markdown",
   "metadata": {},
   "source": [
    "### Day 9 - Part 1"
   ]
  },
  {
   "cell_type": "code",
   "execution_count": 42,
   "metadata": {},
   "outputs": [
    {
     "name": "stdout",
     "output_type": "stream",
     "text": [
      "#############################################\n",
      "Loaded transmission data\n"
     ]
    }
   ],
   "source": [
    "print('#############################################')\n",
    "transmission = []\n",
    "count = 0\n",
    "text_input = open(\"day9/test.txt\", \"r\")\n",
    "for line in text_input:\n",
    "    transmission.append(int(line.strip()))\n",
    "text_input.close()\n",
    "print('Loaded transmission data')"
   ]
  },
  {
   "cell_type": "code",
   "execution_count": 10,
   "metadata": {},
   "outputs": [
    {
     "name": "stdout",
     "output_type": "stream",
     "text": [
      "data: [35, 20, 15, 25, 47], sum: 40\n"
     ]
    }
   ],
   "source": [
    "data = transmission[:5]\n",
    "number = transmission[5]\n",
    "print(f'data: {data}, sum: {number}')"
   ]
  },
  {
   "cell_type": "code",
   "execution_count": 13,
   "metadata": {},
   "outputs": [],
   "source": [
    "temp = [number - point for point in data]"
   ]
  },
  {
   "cell_type": "code",
   "execution_count": 16,
   "metadata": {},
   "outputs": [
    {
     "name": "stdout",
     "output_type": "stream",
     "text": [
      "0, 5\n",
      "1, 20\n",
      "2, 25\n",
      "3, 15\n",
      "4, -7\n"
     ]
    }
   ],
   "source": [
    "for idx, point in enumerate(temp):\n",
    "    print(f'{idx}, {point}')"
   ]
  },
  {
   "cell_type": "code",
   "execution_count": 17,
   "metadata": {},
   "outputs": [],
   "source": [
    "def find_if_valid(data, number):\n",
    "    temp_diff = [number - point for point in data]\n",
    "    valid = False\n",
    "    for idx, point in enumerate(temp_diff):\n",
    "        if (point in data) and (data[idx] != point):\n",
    "            valid = True\n",
    "    return valid"
   ]
  },
  {
   "cell_type": "code",
   "execution_count": 18,
   "metadata": {},
   "outputs": [
    {
     "data": {
      "text/plain": [
       "True"
      ]
     },
     "execution_count": 18,
     "metadata": {},
     "output_type": "execute_result"
    }
   ],
   "source": [
    "find_if_valid(data, number)"
   ]
  },
  {
   "cell_type": "code",
   "execution_count": 19,
   "metadata": {},
   "outputs": [
    {
     "data": {
      "text/plain": [
       "20"
      ]
     },
     "execution_count": 19,
     "metadata": {},
     "output_type": "execute_result"
    }
   ],
   "source": [
    "len(transmission)"
   ]
  },
  {
   "cell_type": "code",
   "execution_count": null,
   "metadata": {},
   "outputs": [],
   "source": []
  },
  {
   "cell_type": "code",
   "execution_count": 40,
   "metadata": {},
   "outputs": [],
   "source": [
    "def search_not_valid(data, preamble_len):\n",
    "    for i in range(preamble_len, len(data)):\n",
    "        if not find_if_valid(data[i-preamble_len:i], data[i]):\n",
    "            print(f'found invalid datapoint: {data[i]}')\n",
    "            break\n",
    "    return (i, data[i])\n"
   ]
  },
  {
   "cell_type": "code",
   "execution_count": 43,
   "metadata": {},
   "outputs": [
    {
     "name": "stdout",
     "output_type": "stream",
     "text": [
      "found invalid datapoint: 127\n"
     ]
    },
    {
     "data": {
      "text/plain": [
       "(14, 127)"
      ]
     },
     "execution_count": 43,
     "metadata": {},
     "output_type": "execute_result"
    }
   ],
   "source": [
    "search_not_valid(transmission, 5)"
   ]
  },
  {
   "cell_type": "code",
   "execution_count": 44,
   "metadata": {},
   "outputs": [
    {
     "ename": "SyntaxError",
     "evalue": "invalid syntax (<ipython-input-44-996d345c30b3>, line 1)",
     "output_type": "error",
     "traceback": [
      "\u001b[1;36m  File \u001b[1;32m\"<ipython-input-44-996d345c30b3>\"\u001b[1;36m, line \u001b[1;32m1\u001b[0m\n\u001b[1;33m    def find_contingous\u001b[0m\n\u001b[1;37m                       ^\u001b[0m\n\u001b[1;31mSyntaxError\u001b[0m\u001b[1;31m:\u001b[0m invalid syntax\n"
     ]
    }
   ],
   "source": [
    "\n",
    "    "
   ]
  },
  {
   "cell_type": "code",
   "execution_count": 47,
   "metadata": {},
   "outputs": [],
   "source": [
    "data = transmission[:14]\n",
    "number = transmission[14]"
   ]
  },
  {
   "cell_type": "code",
   "execution_count": 48,
   "metadata": {},
   "outputs": [
    {
     "data": {
      "text/plain": [
       "[35, 20, 15, 25, 47, 40, 62, 55, 65, 95, 102, 117, 150, 182]"
      ]
     },
     "execution_count": 48,
     "metadata": {},
     "output_type": "execute_result"
    }
   ],
   "source": [
    "data"
   ]
  },
  {
   "cell_type": "code",
   "execution_count": 49,
   "metadata": {},
   "outputs": [
    {
     "data": {
      "text/plain": [
       "127"
      ]
     },
     "execution_count": 49,
     "metadata": {},
     "output_type": "execute_result"
    }
   ],
   "source": [
    "number"
   ]
  },
  {
   "cell_type": "code",
   "execution_count": 114,
   "metadata": {},
   "outputs": [],
   "source": [
    "def find_contingous(data, trgt_sum):\n",
    "    start_idx = 0\n",
    "    end_idx = 0\n",
    "    curr_sum = data[0]\n",
    "    while curr_sum != trgt_sum:\n",
    "        if end_idx > len(data):\n",
    "            print('End of data reached, cumulative subarray not found')\n",
    "            return None \n",
    "\n",
    "        if curr_sum < trgt_sum:\n",
    "            end_idx += 1\n",
    "            curr_sum += data[end_idx]\n",
    "        elif curr_sum > trgt_sum:\n",
    "            curr_sum -= data[start_idx]\n",
    "            start_idx += 1\n",
    "\n",
    "        \n",
    "    print(f'start: {start_idx}, end: {end_idx}, sum: {curr_sum}')\n",
    "    return (start_idx, end_idx, curr_sum)\n",
    "    "
   ]
  },
  {
   "cell_type": "code",
   "execution_count": 115,
   "metadata": {},
   "outputs": [
    {
     "name": "stdout",
     "output_type": "stream",
     "text": [
      "start: 2, end: 5, sum: 127\n"
     ]
    },
    {
     "data": {
      "text/plain": [
       "(2, 5, 127)"
      ]
     },
     "execution_count": 115,
     "metadata": {},
     "output_type": "execute_result"
    }
   ],
   "source": [
    "find_contingous(data, number)"
   ]
  },
  {
   "cell_type": "code",
   "execution_count": 121,
   "metadata": {},
   "outputs": [
    {
     "data": {
      "text/plain": [
       "62"
      ]
     },
     "execution_count": 121,
     "metadata": {},
     "output_type": "execute_result"
    }
   ],
   "source": [
    "min(data[2:5+1]) + max(data[2:5+1])"
   ]
  },
  {
   "cell_type": "code",
   "execution_count": 70,
   "metadata": {},
   "outputs": [
    {
     "data": {
      "text/plain": [
       "[102, 117, 150, 182]"
      ]
     },
     "execution_count": 70,
     "metadata": {},
     "output_type": "execute_result"
    }
   ],
   "source": [
    "data[10:14]"
   ]
  },
  {
   "cell_type": "markdown",
   "metadata": {},
   "source": [
    "### day 10 - part 1"
   ]
  },
  {
   "cell_type": "code",
   "execution_count": 20,
   "metadata": {},
   "outputs": [
    {
     "name": "stdout",
     "output_type": "stream",
     "text": [
      "#############################################\n",
      "Loaded adapters data\n"
     ]
    }
   ],
   "source": [
    "print('#############################################')\n",
    "adapters = []\n",
    "count = 0\n",
    "text_input = open(\"day10/test1.txt\", \"r\")\n",
    "for line in text_input:\n",
    "    adapters.append(int(line.strip()))\n",
    "text_input.close()\n",
    "print('Loaded adapters data')"
   ]
  },
  {
   "cell_type": "code",
   "execution_count": 21,
   "metadata": {},
   "outputs": [],
   "source": [
    "def sort_diff_and_prod(data):\n",
    "    # check if zero is present, add if not \n",
    "    if 0 not in data:\n",
    "        data.append(0)\n",
    "    data.sort()\n",
    "    diff = []\n",
    "    for i in range(len(data)-1):\n",
    "        diff.append(data[i+1] - data[i])\n",
    "    # add one to take into account final adapter in device\n",
    "    return diff.count(1) * (diff.count(3) + 1)"
   ]
  },
  {
   "cell_type": "code",
   "execution_count": 22,
   "metadata": {},
   "outputs": [
    {
     "data": {
      "text/plain": [
       "35"
      ]
     },
     "execution_count": 22,
     "metadata": {},
     "output_type": "execute_result"
    }
   ],
   "source": [
    "sort_diff_and_prod(adapters)"
   ]
  },
  {
   "cell_type": "code",
   "execution_count": 23,
   "metadata": {},
   "outputs": [
    {
     "name": "stdout",
     "output_type": "stream",
     "text": [
      "#############################################\n",
      "Loaded adapters data\n"
     ]
    },
    {
     "data": {
      "text/plain": [
       "220"
      ]
     },
     "execution_count": 23,
     "metadata": {},
     "output_type": "execute_result"
    }
   ],
   "source": [
    "print('#############################################')\n",
    "adapters = []\n",
    "count = 0\n",
    "text_input = open(\"day10/test2.txt\", \"r\")\n",
    "for line in text_input:\n",
    "    adapters.append(int(line.strip()))\n",
    "text_input.close()\n",
    "print('Loaded adapters data')\n",
    "sort_diff_and_prod(adapters)"
   ]
  },
  {
   "cell_type": "code",
   "execution_count": 25,
   "metadata": {},
   "outputs": [
    {
     "name": "stdout",
     "output_type": "stream",
     "text": [
      "#############################################\n",
      "Loaded adapters data\n"
     ]
    },
    {
     "data": {
      "text/plain": [
       "2482"
      ]
     },
     "execution_count": 25,
     "metadata": {},
     "output_type": "execute_result"
    }
   ],
   "source": [
    "print('#############################################')\n",
    "adapters = []\n",
    "count = 0\n",
    "text_input = open(\"day10/input.txt\", \"r\")\n",
    "for line in text_input:\n",
    "    adapters.append(int(line.strip()))\n",
    "text_input.close()\n",
    "print('Loaded adapters data')\n",
    "sort_diff_and_prod(adapters)"
   ]
  },
  {
   "cell_type": "code",
   "execution_count": null,
   "metadata": {},
   "outputs": [],
   "source": []
  }
 ],
 "metadata": {
  "kernelspec": {
   "display_name": "Python 3",
   "language": "python",
   "name": "python3"
  },
  "language_info": {
   "codemirror_mode": {
    "name": "ipython",
    "version": 3
   },
   "file_extension": ".py",
   "mimetype": "text/x-python",
   "name": "python",
   "nbconvert_exporter": "python",
   "pygments_lexer": "ipython3",
   "version": "3.8.5"
  }
 },
 "nbformat": 4,
 "nbformat_minor": 4
}
